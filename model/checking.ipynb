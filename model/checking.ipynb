{
 "cells": [
  {
   "cell_type": "code",
   "execution_count": null,
   "metadata": {},
   "outputs": [
    {
     "name": "stderr",
     "output_type": "stream",
     "text": [
      "WARNING:absl:Compiled the loaded model, but the compiled metrics have yet to be built. `model.compile_metrics` will be empty until you train or evaluate the model.\n"
     ]
    }
   ],
   "source": [
    "import cv2\n",
    "import numpy as np\n",
    "import tensorflow as tf\n",
    "from tensorflow.keras.models import load_model\n",
    "from tensorflow.keras.preprocessing.image import img_to_array\n",
    "import time\n",
    "\n",
    "model = load_model(\"drowsiness_lenet_model.h5\")\n",
    "\n",
    "face_cascade = cv2.CascadeClassifier(cv2.data.haarcascades + \"haarcascade_frontalface_default.xml\")\n",
    "eye_cascade = cv2.CascadeClassifier(cv2.data.haarcascades + \"haarcascade_eye.xml\")\n",
    "\n",
    "cap = cv2.VideoCapture(0)\n",
    "\n",
    "frozen_frame = None  \n",
    "closed_eye_counter = 0  \n",
    "threshold = 40\n",
    "\n",
    "while True:\n",
    "    ret, frame = cap.read()\n",
    "    if not ret:\n",
    "        break\n",
    "    \n",
    "    gray = cv2.cvtColor(frame, cv2.COLOR_BGR2GRAY)  \n",
    "    faces = face_cascade.detectMultiScale(gray, scaleFactor=1.2, minNeighbors=5, minSize=(50, 50))\n",
    "\n",
    "    if len(faces) == 0:\n",
    "        if frozen_frame is None:\n",
    "            frozen_frame = frame.copy()\n",
    "        cv2.putText(frozen_frame, \"No face detected\", (50, 50), cv2.FONT_HERSHEY_SIMPLEX, 0.7, (0, 0, 255), 2)\n",
    "        cv2.imshow(\"Drowsiness Detection\", frozen_frame)\n",
    "    else:\n",
    "        frozen_frame = None\n",
    "        for (x, y, w, h) in faces:\n",
    "            face_roi = gray[y:y+h, x:x+w]\n",
    "            eyes = eye_cascade.detectMultiScale(face_roi, scaleFactor=1.1, minNeighbors=10, minSize=(20, 20))\n",
    "\n",
    "            for (ex, ey, ew, eh) in eyes:\n",
    "                eye_roi = face_roi[ey:ey+eh, ex:ex+ew]  \n",
    "                eye_roi = cv2.resize(eye_roi, (32, 32))  \n",
    "                eye_roi = eye_roi / 255.0  \n",
    "                eye_roi = eye_roi.reshape(1, 32, 32, 1)  \n",
    "                \n",
    "                prediction = model.predict(eye_roi)\n",
    "                label = \"Closed\" if np.argmax(prediction) == 1 else \"Open\"\n",
    "                print(f\"Eye Status: {label}\")\n",
    "                \n",
    "                color = (0, 0, 255) if label == \"Closed\" else (0, 255, 0)\n",
    "                cv2.rectangle(frame, (x+ex, y+ey), (x+ex+ew, y+ey+eh), color, 2)\n",
    "                cv2.putText(frame, label, (x+ex, y+ey-10), cv2.FONT_HERSHEY_SIMPLEX, 0.7, color, 2)\n",
    "                \n",
    "                if label == \"Closed\":\n",
    "                    closed_eye_counter += 1\n",
    "                else:\n",
    "                    closed_eye_counter = 0\n",
    "\n",
    "                if closed_eye_counter >= threshold:\n",
    "                    cv2.putText(frame, \"DROWSINESS ALERT!\", (100, 50), cv2.FONT_HERSHEY_SIMPLEX, 1, (0, 0, 255), 3)\n",
    "                    print(\"DROWSINESS ALERT!\")  \n",
    "                    time.sleep(2)  \n",
    "        \n",
    "        cv2.imshow(\"Drowsiness Detection\", frame)\n",
    "    \n",
    "    if cv2.waitKey(1) & 0xFF == ord('q'):\n",
    "        break\n",
    "\n",
    "cap.release()\n",
    "cv2.destroyAllWindows()\n"
   ]
  },
  {
   "cell_type": "code",
   "execution_count": null,
   "metadata": {},
   "outputs": [],
   "source": []
  }
 ],
 "metadata": {
  "kernelspec": {
   "display_name": "Python 3",
   "language": "python",
   "name": "python3"
  },
  "language_info": {
   "codemirror_mode": {
    "name": "ipython",
    "version": 3
   },
   "file_extension": ".py",
   "mimetype": "text/x-python",
   "name": "python",
   "nbconvert_exporter": "python",
   "pygments_lexer": "ipython3",
   "version": "3.11.0"
  }
 },
 "nbformat": 4,
 "nbformat_minor": 2
}
